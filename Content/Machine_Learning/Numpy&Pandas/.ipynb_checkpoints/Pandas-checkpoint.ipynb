{
 "cells": [
  {
   "cell_type": "markdown",
   "metadata": {},
   "source": [
    "# Pandas笔记"
   ]
  },
  {
   "cell_type": "markdown",
   "metadata": {},
   "source": [
    "pandas是一个开源的，BSD许可的库，为Python编程语言提供了高性能，易用的数据结构和数据分析工具。\n",
    "\n",
    "在`Pandas`中有两种数据结构，`Series`和`DataFrame`。\n",
    "\n",
    "接下来会围绕这两种数据结构进行学习。"
   ]
  },
  {
   "cell_type": "code",
   "execution_count": 2,
   "metadata": {
    "collapsed": true
   },
   "outputs": [],
   "source": [
    "import pandas as pd\n",
    "import numpy as np\n",
    "import matplotlib.pyplot as plt  "
   ]
  },
  {
   "cell_type": "markdown",
   "metadata": {},
   "source": [
    "## 1.1 Series"
   ]
  },
  {
   "cell_type": "code",
   "execution_count": 13,
   "metadata": {},
   "outputs": [],
   "source": [
    "s = pd.Series([1, 2, 5, np.nan, 6, 8])\n",
    "# print(s)"
   ]
  },
  {
   "cell_type": "markdown",
   "metadata": {},
   "source": [
    "## 1.2 DataFrame"
   ]
  },
  {
   "cell_type": "code",
   "execution_count": 11,
   "metadata": {},
   "outputs": [],
   "source": [
    "dates = pd.date_range('20180329', periods=6)"
   ]
  },
  {
   "cell_type": "code",
   "execution_count": 12,
   "metadata": {},
   "outputs": [],
   "source": [
    "# 创建DataFrame\n",
    "df = pd.DataFrame(np.random.randn(6,4), index=dates, columns=list('ABCD'))"
   ]
  },
  {
   "cell_type": "code",
   "execution_count": 10,
   "metadata": {},
   "outputs": [
    {
     "data": {
      "text/plain": [
       "A    float64\n",
       "B    float64\n",
       "C    float64\n",
       "D    float64\n",
       "dtype: object"
      ]
     },
     "execution_count": 10,
     "metadata": {},
     "output_type": "execute_result"
    }
   ],
   "source": [
    "df.dtypes # 列类型"
   ]
  },
  {
   "cell_type": "markdown",
   "metadata": {},
   "source": [
    "## 1.3 方法速查"
   ]
  },
  {
   "cell_type": "markdown",
   "metadata": {},
   "source": [
    "* df.head() : 前五条数据\n",
    "* df.tail(3) : 后三条数据\n",
    "* df.index : 行名\n",
    "* df.columns : 列名\n",
    "* df.values : 所有值\n",
    "* df.describe() : 数据描述摘要\n",
    "* df.T : 转置\n",
    "* df.sort_index(axis=1, ascending=False) : 按轴排序\n",
    "* df.sort_values(by='B') : 按值排序\n",
    "* df['A'] : A列数据\n",
    "* df[0:3] : 切片（0，3）"
   ]
  },
  {
   "cell_type": "markdown",
   "metadata": {},
   "source": [
    "## 1.4 缺省值（Missing Data）\n",
    "\n",
    "* df.dropna(how='any') : 丢弃为空的行\n",
    "* df.fillna(value=5) : 填充缺失数据\n",
    "* pd.isna(df) : 获取值为nan的布尔值掩码"
   ]
  },
  {
   "cell_type": "markdown",
   "metadata": {},
   "source": [
    "## 1.5 其他\n",
    "\n",
    "* df.mean() 平均值\n",
    "* s.value_counts() # 统计值的数量\n",
    "* s.str.lower() # 转为小写\n",
    "* pd.concat()"
   ]
  }
 ],
 "metadata": {
  "kernelspec": {
   "display_name": "Python 3",
   "language": "python",
   "name": "python3"
  },
  "language_info": {
   "codemirror_mode": {
    "name": "ipython",
    "version": 3
   },
   "file_extension": ".py",
   "mimetype": "text/x-python",
   "name": "python",
   "nbconvert_exporter": "python",
   "pygments_lexer": "ipython3",
   "version": "3.6.3"
  }
 },
 "nbformat": 4,
 "nbformat_minor": 2
}
